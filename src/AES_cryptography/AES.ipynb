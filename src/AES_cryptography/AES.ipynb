{
 "cells": [
  {
   "cell_type": "markdown",
   "metadata": {},
   "source": [
    "참조) https://mkjjo.github.io/python/2019/08/04/crypto.html"
   ]
  },
  {
   "cell_type": "markdown",
   "metadata": {},
   "source": [
    "### AES256\n",
    "- key: 32 bytes\n",
    "- iv: 16 bytes\n",
    "- block_size: 16 bytes"
   ]
  },
  {
   "cell_type": "code",
   "execution_count": 9,
   "metadata": {},
   "outputs": [],
   "source": [
    "import base64\n",
    "from Crypto import Random\n",
    "from Crypto.Cipher import AES"
   ]
  },
  {
   "cell_type": "code",
   "execution_count": 266,
   "metadata": {},
   "outputs": [],
   "source": [
    "import secrets"
   ]
  },
  {
   "cell_type": "markdown",
   "metadata": {},
   "source": [
    "### VER1"
   ]
  },
  {
   "cell_type": "code",
   "execution_count": 354,
   "metadata": {},
   "outputs": [],
   "source": [
    "class AES_cbcmode:\n",
    "    \n",
    "    def __init__(self,key):\n",
    "        self.key = key\n",
    "    \n",
    "    def padding(self, raw_data):\n",
    "        # 한국어의 경우 utf-8했을 때의 len이 달라지므로 encoding 과정 추가\n",
    "        enc = raw_data.encode('utf-8')\n",
    "        pad_num = AES.block_size - len(enc) % AES.block_size\n",
    "        pad_chr = chr(pad_num)\n",
    "        \n",
    "        # encoding해서 최종 pad_data 반환\n",
    "        return (raw_data + pad_num * pad_chr).encode('utf-8')\n",
    "    \n",
    "    def unpadding(self, pad_data):\n",
    "        return pad_data[:-pad_data[-1]]\n",
    "    \n",
    "    def encrypt(self, raw_data):\n",
    "        pad_data = self.padding(raw_data)\n",
    "    \n",
    "        # iv: initial vector\n",
    "        # 두 번째 키와 같은 존재, \n",
    "        # 블록 단위로 암호/복호하면서 변경되고 그 값은 다음 블록 단위 암호/복호 시 사용\n",
    "        iv = Random.new().read( AES.block_size )\n",
    "        \n",
    "        # CBC mode(Cipher Block Chaining)\n",
    "        cipher = AES.new( self.key, AES.MODE_CBC, iv )\n",
    "        return base64.b64encode(iv + cipher.encrypt(pad_data))\n",
    "    \n",
    "    def decrypt(self, enc_data):\n",
    "        enc_decode = base64.b64decode(enc_data)\n",
    "        iv = enc_decode[:AES.block_size]\n",
    "        cipher = AES.new(self.key,AES.MODE_CBC, iv)\n",
    "        return self.unpadding(cipher.decrypt(enc_decode[AES.block_size:]))"
   ]
  },
  {
   "cell_type": "code",
   "execution_count": 355,
   "metadata": {},
   "outputs": [],
   "source": [
    "data=\"URL:https://python.flowdas.com/library/secrets.html#module-secrets\\nDevice:dSmdf53621\\nIP:184.51.65.127\\nCode:dkjSDFsskedlfskdfjlks\""
   ]
  },
  {
   "cell_type": "code",
   "execution_count": 356,
   "metadata": {},
   "outputs": [
    {
     "data": {
      "text/plain": [
       "b'\\x94%\\xf3\"\\x93\\x9c,\\x9f`\\xcc\\x94n\\x1eh2Y{W\\t\\x9f7\\xc2>l\\x1cEx\\xd4\\x10\\xfa\\xecX'"
      ]
     },
     "execution_count": 356,
     "metadata": {},
     "output_type": "execute_result"
    }
   ],
   "source": [
    "key = secrets.token_bytes(32)\n",
    "key"
   ]
  },
  {
   "cell_type": "code",
   "execution_count": 357,
   "metadata": {},
   "outputs": [
    {
     "data": {
      "text/plain": [
       "b'8llmuFhxkQMlh10yKoZy1K2F+QOPHB6jv8ddkn66qqB7LWg/WDPc/nNGSIoKvvfmw4JcSrniZczItqx7hJ2OrvY+BwfNnphf0nvQJw1CT4k0FginDMBXbgmDJnD+ykOgjmx5a+J+WO8mOvhXShsnC76WCiLQxFKFmnLxCxuhFBXXT7opNuxe/wu1JERRLg+sTW5VE9TUfu7fz3Gt6uLWpw=='"
      ]
     },
     "execution_count": 357,
     "metadata": {},
     "output_type": "execute_result"
    }
   ],
   "source": [
    "enc_data = AES_cbcmode(key).encrypt(data)\n",
    "enc_data"
   ]
  },
  {
   "cell_type": "code",
   "execution_count": 281,
   "metadata": {},
   "outputs": [
    {
     "data": {
      "text/plain": [
       "b'b9kUoFV8aJZQu8wPZolrLX3GECLWssSNaJtVxad3i7KNOUmpOIL98WCg+BvLqlSpTdat3bKSotnB+qbXSaMDukcSo1pk30kytcjNl1hSgZN8Q43rX/kbpdpKbwlvH0Jc4+zhpuNtnUgDc0d5eGI89gyRXEH5VfyYR+ucDEiHN854TtjKYSdqpvNrUOLBHvhRy4UMukl6NqMKMytvr8fcqQ=='"
      ]
     },
     "execution_count": 281,
     "metadata": {},
     "output_type": "execute_result"
    }
   ],
   "source": [
    "enc_data = AES_cbcmode(key).encrypt(data)\n",
    "enc_data"
   ]
  },
  {
   "cell_type": "code",
   "execution_count": 358,
   "metadata": {},
   "outputs": [
    {
     "data": {
      "text/plain": [
       "b'URL:https://python.flowdas.com/library/secrets.html#module-secrets\\nDevice:dSmdf53216\\nIP:184.51.65.127\\nCode:dkjSDFsskedlfskdfjlks'"
      ]
     },
     "execution_count": 358,
     "metadata": {},
     "output_type": "execute_result"
    }
   ],
   "source": [
    "dec_data = AES_cbcmode(key).decrypt(enc_data)\n",
    "dec_data"
   ]
  },
  {
   "cell_type": "markdown",
   "metadata": {},
   "source": [
    "### VER2"
   ]
  },
  {
   "cell_type": "code",
   "execution_count": 343,
   "metadata": {},
   "outputs": [],
   "source": [
    "class AES_cbcmode_v2:\n",
    "    \n",
    "    def __init__(self,common_key,secret_key):\n",
    "        self.key = common_key\n",
    "        self.secret_key = secret_key\n",
    "    \n",
    "    def padding(self, raw_data):\n",
    "        # 한국어의 경우 utf-8했을 때의 len이 달라지므로 encoding 과정 추가\n",
    "        enc = raw_data.encode('utf-8')\n",
    "        pad_num = AES.block_size - len(enc) % AES.block_size\n",
    "        pad_chr = chr(pad_num)\n",
    "        \n",
    "        # encoding해서 최종 pad_data 반환\n",
    "        return (raw_data + pad_num * pad_chr).encode('utf-8')\n",
    "    \n",
    "    def unpadding(self, pad_data):\n",
    "        return pad_data[:-pad_data[-1]]\n",
    "    \n",
    "    def encrypt(self, raw_data, url):\n",
    "        pad_data = self.padding(raw_data)\n",
    "        pad_url = self.padding(url)\n",
    "    \n",
    "        # iv: initial vector\n",
    "        # 두 번째 키와 같은 존재, \n",
    "        # 블록 단위로 암호/복호하면서 변경되고 그 값은 다음 블록 단위 암호/복호 시 사용\n",
    "        iv = Random.new().read( AES.block_size)\n",
    "        \n",
    "        uiv = Random.new().read( AES.block_size)\n",
    "        \n",
    "        \n",
    "        \n",
    "        # CBC mode(Cipher Block Chaining)\n",
    "        cipher_info = AES.new(self.secret_key, AES.MODE_CBC, iv)\n",
    "        \n",
    "        p_data = base64.b64encode(iv + cipher_info.encrypt(pad_data))\n",
    "        \n",
    "#         p_data = base64.b64encode(iv + cipher_info.encrypt(pad_data))\n",
    "        \n",
    "        \n",
    "        \n",
    "        cipher = AES.new(self.key, AES.MODE_CBC, uiv)\n",
    "        \n",
    "        return base64.b64encode(uiv + cipher.encrypt(pad_url + p_data))\n",
    "    \n",
    "    \n",
    "    def url_decrypt(self, enc_data):\n",
    "        enc_decode = base64.b64decode(enc_data)\n",
    "        uiv = enc_decode[:AES.block_size]\n",
    "        \n",
    "        cipher = AES.new(self.key,AES.MODE_CBC, uiv)\n",
    "        \n",
    "        return self.unpadding(cipher.decrypt(enc_decode[AES.block_size:]))\n",
    "    \n",
    "    def decrypt(self, enc_data, u):\n",
    "        enc_decode = base64.b64decode(enc_data)\n",
    "        uiv = enc_decode[:AES.block_size]\n",
    "        \n",
    "        cipher = AES.new(self.key,AES.MODE_CBC, uiv)\n",
    "        info = cipher.decrypt(enc_decode[AES.block_size:])\n",
    "        \n",
    "        iv = info[:AES.block_size]\n",
    "        cipher_info = AES.new(self.secret_key,AES.MODE_CBC, iv)\n",
    "        \n",
    "        return self.unpadding(cipher_info.decrypt(cipher_info [AES.block_size:]))"
   ]
  },
  {
   "cell_type": "code",
   "execution_count": null,
   "metadata": {},
   "outputs": [],
   "source": []
  },
  {
   "cell_type": "code",
   "execution_count": null,
   "metadata": {},
   "outputs": [],
   "source": []
  },
  {
   "cell_type": "code",
   "execution_count": 306,
   "metadata": {},
   "outputs": [],
   "source": [
    "url =\"https://python.flowdas.com/library/secrets.html#module-secrets\"\n",
    "u =\"python.flowdas.com\""
   ]
  },
  {
   "cell_type": "code",
   "execution_count": 307,
   "metadata": {},
   "outputs": [
    {
     "data": {
      "text/plain": [
       "b'\\x96p\\xb3\\x04\\x04K1P\\x94>\\t\\xe4\\xdc\\xf2\\xd0\\x146.\\xb0/\"\\xd2\\xfcuf\\x9a\\'\\xa4\\xe1\\xd7\\xb8\\x00'"
      ]
     },
     "execution_count": 307,
     "metadata": {},
     "output_type": "execute_result"
    }
   ],
   "source": [
    "secret_key = secrets.token_bytes(32)\n",
    "secret_key"
   ]
  },
  {
   "cell_type": "code",
   "execution_count": 308,
   "metadata": {},
   "outputs": [
    {
     "data": {
      "text/plain": [
       "b'\\x06z\\xd8GZi\\xbd\\x87\\x1d\\x8d\\xd3Z\\x176)\\x1c(\\xcbm8\\xa0\\xda\\x19\\xa8^\\xe4u\\x04\\xf6R\\xe6\\xba'"
      ]
     },
     "execution_count": 308,
     "metadata": {},
     "output_type": "execute_result"
    }
   ],
   "source": [
    "common_key = secrets.token_bytes(32)\n",
    "common_key"
   ]
  },
  {
   "cell_type": "code",
   "execution_count": 316,
   "metadata": {},
   "outputs": [],
   "source": [
    "data= \"Device:dSmdf53216\\nIP:184.51.65.127\\nCode:dkjSDFsskedlfskdfjlks\""
   ]
  },
  {
   "cell_type": "code",
   "execution_count": 324,
   "metadata": {
    "scrolled": true
   },
   "outputs": [],
   "source": [
    "def padding(raw_data):\n",
    "    # 한국어의 경우 utf-8했을 때의 len이 달라지므로 encoding 과정 추가\n",
    "    enc = raw_data.encode('utf-8')\n",
    "    pad_num = AES.block_size - len(enc) % AES.block_size\n",
    "    pad_chr = chr(pad_num)\n",
    "\n",
    "    # encoding해서 최종 pad_data 반환\n",
    "    return (raw_data + pad_num * pad_chr).encode('utf-8')\n",
    "\n",
    "pad_data = padding(data)\n",
    "pad_url = padding(url)"
   ]
  },
  {
   "cell_type": "code",
   "execution_count": 325,
   "metadata": {},
   "outputs": [
    {
     "name": "stdout",
     "output_type": "stream",
     "text": [
      "b'Device:dSmdf53216\\nIP:184.51.65.127\\nCode:dkjSDFsskedlfskdfjlks\\x03\\x03\\x03'\n",
      "b'https://python.flowdas.com/library/secrets.html#module-secrets\\x02\\x02'\n"
     ]
    }
   ],
   "source": [
    "print(pad_data)\n",
    "print(pad_url)"
   ]
  },
  {
   "cell_type": "code",
   "execution_count": 328,
   "metadata": {},
   "outputs": [
    {
     "name": "stdout",
     "output_type": "stream",
     "text": [
      "b't\\xa5@\\xaf\\x94\\xc5\\x16a\\xeb\\x82\\x99g\\xd9\\x14e\\xbc'\n",
      "b'\\xd5Qf\\xa3+&\\x06S?\\xb1\\xee\\xda\\xdf\\x18\\rl'\n"
     ]
    }
   ],
   "source": [
    "\n",
    "# iv: initial vector\n",
    "# 두 번째 키와 같은 존재, \n",
    "# 블록 단위로 암호/복호하면서 변경되고 그 값은 다음 블록 단위 암호/복호 시 사용\n",
    "iv = Random.new().read( AES.block_size)\n",
    "\n",
    "uiv = Random.new().read( AES.block_size)\n",
    "\n",
    "print(iv)\n",
    "print(uiv)"
   ]
  },
  {
   "cell_type": "code",
   "execution_count": 330,
   "metadata": {},
   "outputs": [],
   "source": [
    "\n",
    "# CBC mode(Cipher Block Chaining)\n",
    "cipher_info = AES.new(secret_key, AES.MODE_CBC, iv)\n",
    "\n",
    "\n",
    "cipher = AES.new(common_key, AES.MODE_CBC, uiv)\n"
   ]
  },
  {
   "cell_type": "code",
   "execution_count": 336,
   "metadata": {},
   "outputs": [
    {
     "data": {
      "text/plain": [
       "b'dKVAr5TFFmHrgpln2RRlvKPQ5LnPJx1T6Kp14iub1lPFY3cEtdcd4XtFqgoUv5PMOtcmygF0/sWySFs/PG2NIvTNOFPR2880bqDtwNkuFog='"
      ]
     },
     "execution_count": 336,
     "metadata": {},
     "output_type": "execute_result"
    }
   ],
   "source": [
    "p_data = iv + cipher_info.encrypt(pad_data)\n",
    "pp_data = base64.b64encode(p_data)\n",
    "pp_data"
   ]
  },
  {
   "cell_type": "code",
   "execution_count": 337,
   "metadata": {},
   "outputs": [
    {
     "data": {
      "text/plain": [
       "'dKVAr5TFFmHrgpln2RRlvKPQ5LnPJx1T6Kp14iub1lPFY3cEtdcd4XtFqgoUv5PMOtcmygF0/sWySFs/PG2NIvTNOFPR2880bqDtwNkuFog='"
      ]
     },
     "execution_count": 337,
     "metadata": {},
     "output_type": "execute_result"
    }
   ],
   "source": [
    "ppp_data = str(pp_data,encoding=\"utf-8\")\n",
    "ppp_data"
   ]
  },
  {
   "cell_type": "code",
   "execution_count": 350,
   "metadata": {},
   "outputs": [],
   "source": [
    "up = url+ppp_data\n",
    "upp = padding(up)"
   ]
  },
  {
   "cell_type": "code",
   "execution_count": 353,
   "metadata": {},
   "outputs": [
    {
     "data": {
      "text/plain": [
       "b'\\x80\\xfcpC\\xb7&\\xa1H\\x0b\\xc0C\\x18W\\xb4X\\xdc\\x89\\x16:\\xde\\xc5\\xd4a\\xa4U\\xd2\\xd3\\x19m\\xe1\\xc1\\xec\\x07\\x7fX\\xceLlp\\xcbW<\\x15\\xfe\\x16\\xeeW\\xef\\xa3\\x826v\\xad\\x98\\x16\\xaf\\x8c\\x1e\\xf0\\xf7\\xfc\\xe1\\x0e\\xa2#\\xf6T\\xec\\xb8*\\x88n6E\\xab\\x86\\xdd\\x10}\\xfc\\x9f+9#\\xbd\\x1c{\\x8e3,\\xfd\\x8d\\x90\\xa1Z&\\x0c\\xa2m\\xd4\\xdbp\\xc8\\xab\\xb1\\x1c\\x046\\x0e\\xa3\\x0f\\x1f\\xe9q\\xaeI\\xb6\\xc2\\xb8]\\xf7]2W\\xbe\\xa4\\xd3\\xab\\xf2rF\\x1a\\x88\\xbb\\t\\xfb\\xfdT\\xd8\\xb4g\\tH\\x9cm\\xe3\\xf0\\x05\\x18F\\x04\\xa0\\xb7\\xa5\\xbf\\xe9\\x9c\\x81\\x7f\\x82{\\xbd\\xdb\\x06\\x0eR <KaC\\xc3\\xd2t\\xa3\\xb8'"
      ]
     },
     "execution_count": 353,
     "metadata": {},
     "output_type": "execute_result"
    }
   ],
   "source": [
    "cipher.encrypt(upp)"
   ]
  },
  {
   "cell_type": "code",
   "execution_count": 341,
   "metadata": {},
   "outputs": [
    {
     "data": {
      "text/plain": [
       "'https://python.flowdas.com/library/secrets.html#module-secrets'"
      ]
     },
     "execution_count": 341,
     "metadata": {},
     "output_type": "execute_result"
    }
   ],
   "source": [
    "url"
   ]
  },
  {
   "cell_type": "code",
   "execution_count": 342,
   "metadata": {},
   "outputs": [
    {
     "data": {
      "text/plain": [
       "'dKVAr5TFFmHrgpln2RRlvKPQ5LnPJx1T6Kp14iub1lPFY3cEtdcd4XtFqgoUv5PMOtcmygF0/sWySFs/PG2NIvTNOFPR2880bqDtwNkuFog='"
      ]
     },
     "execution_count": 342,
     "metadata": {},
     "output_type": "execute_result"
    }
   ],
   "source": [
    "ppp_data"
   ]
  },
  {
   "cell_type": "code",
   "execution_count": null,
   "metadata": {},
   "outputs": [],
   "source": []
  },
  {
   "cell_type": "code",
   "execution_count": 340,
   "metadata": {},
   "outputs": [
    {
     "ename": "TypeError",
     "evalue": "Object type <class 'str'> cannot be passed to C code",
     "output_type": "error",
     "traceback": [
      "\u001b[1;31m--------------------------------------------------------------------\u001b[0m",
      "\u001b[1;31mTypeError\u001b[0m                          Traceback (most recent call last)",
      "\u001b[1;32m<ipython-input-340-87d1b2a16e95>\u001b[0m in \u001b[0;36m<module>\u001b[1;34m\u001b[0m\n\u001b[1;32m----> 1\u001b[1;33m \u001b[0mcipher\u001b[0m\u001b[1;33m.\u001b[0m\u001b[0mencrypt\u001b[0m\u001b[1;33m(\u001b[0m\u001b[0murl\u001b[0m \u001b[1;33m+\u001b[0m \u001b[0mppp_data\u001b[0m\u001b[1;33m)\u001b[0m\u001b[1;33m\u001b[0m\u001b[0m\n\u001b[0m",
      "\u001b[1;32mc:\\users\\julia\\appdata\\local\\programs\\python\\python36\\lib\\site-packages\\Crypto\\Cipher\\_mode_cbc.py\u001b[0m in \u001b[0;36mencrypt\u001b[1;34m(self, plaintext, output)\u001b[0m\n\u001b[0;32m    176\u001b[0m \u001b[1;33m\u001b[0m\u001b[0m\n\u001b[0;32m    177\u001b[0m         result = raw_cbc_lib.CBC_encrypt(self._state.get(),\n\u001b[1;32m--> 178\u001b[1;33m                                          \u001b[0mc_uint8_ptr\u001b[0m\u001b[1;33m(\u001b[0m\u001b[0mplaintext\u001b[0m\u001b[1;33m)\u001b[0m\u001b[1;33m,\u001b[0m\u001b[1;33m\u001b[0m\u001b[0m\n\u001b[0m\u001b[0;32m    179\u001b[0m                                          \u001b[0mc_uint8_ptr\u001b[0m\u001b[1;33m(\u001b[0m\u001b[0mciphertext\u001b[0m\u001b[1;33m)\u001b[0m\u001b[1;33m,\u001b[0m\u001b[1;33m\u001b[0m\u001b[0m\n\u001b[0;32m    180\u001b[0m                                          c_size_t(len(plaintext)))\n",
      "\u001b[1;32mc:\\users\\julia\\appdata\\local\\programs\\python\\python36\\lib\\site-packages\\Crypto\\Util\\_raw_api.py\u001b[0m in \u001b[0;36mc_uint8_ptr\u001b[1;34m(data)\u001b[0m\n\u001b[0;32m    142\u001b[0m             \u001b[1;32mreturn\u001b[0m \u001b[0mdata\u001b[0m\u001b[1;33m\u001b[0m\u001b[0m\n\u001b[0;32m    143\u001b[0m         \u001b[1;32melse\u001b[0m\u001b[1;33m:\u001b[0m\u001b[1;33m\u001b[0m\u001b[0m\n\u001b[1;32m--> 144\u001b[1;33m             \u001b[1;32mraise\u001b[0m \u001b[0mTypeError\u001b[0m\u001b[1;33m(\u001b[0m\u001b[1;34m\"Object type %s cannot be passed to C code\"\u001b[0m \u001b[1;33m%\u001b[0m \u001b[0mtype\u001b[0m\u001b[1;33m(\u001b[0m\u001b[0mdata\u001b[0m\u001b[1;33m)\u001b[0m\u001b[1;33m)\u001b[0m\u001b[1;33m\u001b[0m\u001b[0m\n\u001b[0m\u001b[0;32m    145\u001b[0m \u001b[1;33m\u001b[0m\u001b[0m\n\u001b[0;32m    146\u001b[0m     \u001b[1;32mclass\u001b[0m \u001b[0mVoidPointer_cffi\u001b[0m\u001b[1;33m(\u001b[0m\u001b[0m_VoidPointer\u001b[0m\u001b[1;33m)\u001b[0m\u001b[1;33m:\u001b[0m\u001b[1;33m\u001b[0m\u001b[0m\n",
      "\u001b[1;31mTypeError\u001b[0m: Object type <class 'str'> cannot be passed to C code"
     ]
    }
   ],
   "source": [
    "cipher.encrypt(url + ppp_data)"
   ]
  },
  {
   "cell_type": "code",
   "execution_count": null,
   "metadata": {},
   "outputs": [],
   "source": [
    "base64.b64encode(uiv + cipher.encrypt(url + p_data))"
   ]
  },
  {
   "cell_type": "code",
   "execution_count": null,
   "metadata": {},
   "outputs": [],
   "source": []
  },
  {
   "cell_type": "code",
   "execution_count": null,
   "metadata": {},
   "outputs": [],
   "source": []
  },
  {
   "cell_type": "code",
   "execution_count": null,
   "metadata": {},
   "outputs": [],
   "source": []
  },
  {
   "cell_type": "code",
   "execution_count": 344,
   "metadata": {},
   "outputs": [
    {
     "ename": "ValueError",
     "evalue": "Data must be padded to 16 byte boundary in CBC mode",
     "output_type": "error",
     "traceback": [
      "\u001b[1;31m--------------------------------------------------------------------\u001b[0m",
      "\u001b[1;31mValueError\u001b[0m                         Traceback (most recent call last)",
      "\u001b[1;32m<ipython-input-344-9981427a6b6e>\u001b[0m in \u001b[0;36m<module>\u001b[1;34m\u001b[0m\n\u001b[1;32m----> 1\u001b[1;33m \u001b[0menc_data\u001b[0m \u001b[1;33m=\u001b[0m \u001b[0mAES_cbcmode_v2\u001b[0m\u001b[1;33m(\u001b[0m\u001b[0mcommon_key\u001b[0m\u001b[1;33m,\u001b[0m \u001b[0msecret_key\u001b[0m\u001b[1;33m)\u001b[0m\u001b[1;33m.\u001b[0m\u001b[0mencrypt\u001b[0m\u001b[1;33m(\u001b[0m\u001b[0mdata\u001b[0m\u001b[1;33m,\u001b[0m \u001b[0murl\u001b[0m\u001b[1;33m)\u001b[0m\u001b[1;33m\u001b[0m\u001b[0m\n\u001b[0m\u001b[0;32m      2\u001b[0m \u001b[0menc_data\u001b[0m\u001b[1;33m\u001b[0m\u001b[0m\n",
      "\u001b[1;32m<ipython-input-343-4bb2d0df12af>\u001b[0m in \u001b[0;36mencrypt\u001b[1;34m(self, raw_data, url)\u001b[0m\n\u001b[0;32m     41\u001b[0m         \u001b[0mcipher\u001b[0m \u001b[1;33m=\u001b[0m \u001b[0mAES\u001b[0m\u001b[1;33m.\u001b[0m\u001b[0mnew\u001b[0m\u001b[1;33m(\u001b[0m\u001b[0mself\u001b[0m\u001b[1;33m.\u001b[0m\u001b[0mkey\u001b[0m\u001b[1;33m,\u001b[0m \u001b[0mAES\u001b[0m\u001b[1;33m.\u001b[0m\u001b[0mMODE_CBC\u001b[0m\u001b[1;33m,\u001b[0m \u001b[0muiv\u001b[0m\u001b[1;33m)\u001b[0m\u001b[1;33m\u001b[0m\u001b[0m\n\u001b[0;32m     42\u001b[0m \u001b[1;33m\u001b[0m\u001b[0m\n\u001b[1;32m---> 43\u001b[1;33m         \u001b[1;32mreturn\u001b[0m \u001b[0mbase64\u001b[0m\u001b[1;33m.\u001b[0m\u001b[0mb64encode\u001b[0m\u001b[1;33m(\u001b[0m\u001b[0muiv\u001b[0m \u001b[1;33m+\u001b[0m \u001b[0mcipher\u001b[0m\u001b[1;33m.\u001b[0m\u001b[0mencrypt\u001b[0m\u001b[1;33m(\u001b[0m\u001b[0mpad_url\u001b[0m \u001b[1;33m+\u001b[0m \u001b[0mp_data\u001b[0m\u001b[1;33m)\u001b[0m\u001b[1;33m)\u001b[0m\u001b[1;33m\u001b[0m\u001b[0m\n\u001b[0m\u001b[0;32m     44\u001b[0m \u001b[1;33m\u001b[0m\u001b[0m\n\u001b[0;32m     45\u001b[0m \u001b[1;33m\u001b[0m\u001b[0m\n",
      "\u001b[1;32mc:\\users\\julia\\appdata\\local\\programs\\python\\python36\\lib\\site-packages\\Crypto\\Cipher\\_mode_cbc.py\u001b[0m in \u001b[0;36mencrypt\u001b[1;34m(self, plaintext, output)\u001b[0m\n\u001b[0;32m    181\u001b[0m         \u001b[1;32mif\u001b[0m \u001b[0mresult\u001b[0m\u001b[1;33m:\u001b[0m\u001b[1;33m\u001b[0m\u001b[0m\n\u001b[0;32m    182\u001b[0m             \u001b[1;32mif\u001b[0m \u001b[0mresult\u001b[0m \u001b[1;33m==\u001b[0m \u001b[1;36m3\u001b[0m\u001b[1;33m:\u001b[0m\u001b[1;33m\u001b[0m\u001b[0m\n\u001b[1;32m--> 183\u001b[1;33m                 \u001b[1;32mraise\u001b[0m \u001b[0mValueError\u001b[0m\u001b[1;33m(\u001b[0m\u001b[1;34m\"Data must be padded to %d byte boundary in CBC mode\"\u001b[0m \u001b[1;33m%\u001b[0m \u001b[0mself\u001b[0m\u001b[1;33m.\u001b[0m\u001b[0mblock_size\u001b[0m\u001b[1;33m)\u001b[0m\u001b[1;33m\u001b[0m\u001b[0m\n\u001b[0m\u001b[0;32m    184\u001b[0m             \u001b[1;32mraise\u001b[0m \u001b[0mValueError\u001b[0m\u001b[1;33m(\u001b[0m\u001b[1;34m\"Error %d while encrypting in CBC mode\"\u001b[0m \u001b[1;33m%\u001b[0m \u001b[0mresult\u001b[0m\u001b[1;33m)\u001b[0m\u001b[1;33m\u001b[0m\u001b[0m\n\u001b[0;32m    185\u001b[0m \u001b[1;33m\u001b[0m\u001b[0m\n",
      "\u001b[1;31mValueError\u001b[0m: Data must be padded to 16 byte boundary in CBC mode"
     ]
    }
   ],
   "source": [
    "enc_data = AES_cbcmode_v2(common_key, secret_key).encrypt(data, url)\n",
    "enc_data"
   ]
  },
  {
   "cell_type": "code",
   "execution_count": null,
   "metadata": {},
   "outputs": [],
   "source": []
  },
  {
   "cell_type": "code",
   "execution_count": null,
   "metadata": {},
   "outputs": [],
   "source": []
  },
  {
   "cell_type": "code",
   "execution_count": null,
   "metadata": {},
   "outputs": [],
   "source": []
  },
  {
   "cell_type": "code",
   "execution_count": null,
   "metadata": {},
   "outputs": [],
   "source": []
  },
  {
   "cell_type": "code",
   "execution_count": 261,
   "metadata": {},
   "outputs": [
    {
     "ename": "SyntaxError",
     "evalue": "unexpected character after line continuation character (<ipython-input-261-548a43e5b388>, line 1)",
     "output_type": "error",
     "traceback": [
      "\u001b[1;36m  File \u001b[1;32m\"<ipython-input-261-548a43e5b388>\"\u001b[1;36m, line \u001b[1;32m1\u001b[0m\n\u001b[1;33m    \\xdcrc\u001b[0m\n\u001b[1;37m          ^\u001b[0m\n\u001b[1;31mSyntaxError\u001b[0m\u001b[1;31m:\u001b[0m unexpected character after line continuation character\n"
     ]
    }
   ],
   "source": [
    "\\xdcrc"
   ]
  },
  {
   "cell_type": "code",
   "execution_count": 255,
   "metadata": {},
   "outputs": [
    {
     "data": {
      "text/plain": [
       "b'\\xdcrc\\xe5\\x01\\xb5\\xb7\\xfa\\xc4r\\xf9\\xc1tg?\\x83v\\xd6{\\xe30\\xa79[P\\xb9\\nV2ZP='"
      ]
     },
     "execution_count": 255,
     "metadata": {},
     "output_type": "execute_result"
    }
   ],
   "source": [
    "ka = Random.new().read( 32 )\n",
    "ka"
   ]
  },
  {
   "cell_type": "code",
   "execution_count": 262,
   "metadata": {},
   "outputs": [
    {
     "data": {
      "text/plain": [
       "b'\\xdcrc'"
      ]
     },
     "execution_count": 262,
     "metadata": {},
     "output_type": "execute_result"
    }
   ],
   "source": [
    "ka[0:3]"
   ]
  },
  {
   "cell_type": "code",
   "execution_count": 264,
   "metadata": {},
   "outputs": [
    {
     "ename": "UnicodeDecodeError",
     "evalue": "'utf-8' codec can't decode byte 0xdc in position 0: invalid continuation byte",
     "output_type": "error",
     "traceback": [
      "\u001b[1;31m--------------------------------------------------------------------\u001b[0m",
      "\u001b[1;31mUnicodeDecodeError\u001b[0m                 Traceback (most recent call last)",
      "\u001b[1;32m<ipython-input-264-665d9ea337d8>\u001b[0m in \u001b[0;36m<module>\u001b[1;34m\u001b[0m\n\u001b[1;32m----> 1\u001b[1;33m \u001b[0mka\u001b[0m\u001b[1;33m[\u001b[0m\u001b[1;36m0\u001b[0m\u001b[1;33m:\u001b[0m\u001b[1;36m3\u001b[0m\u001b[1;33m]\u001b[0m\u001b[1;33m.\u001b[0m\u001b[0mdecode\u001b[0m\u001b[1;33m(\u001b[0m\u001b[1;33m)\u001b[0m\u001b[1;33m\u001b[0m\u001b[0m\n\u001b[0m",
      "\u001b[1;31mUnicodeDecodeError\u001b[0m: 'utf-8' codec can't decode byte 0xdc in position 0: invalid continuation byte"
     ]
    }
   ],
   "source": [
    "ka[0:3].decode()"
   ]
  },
  {
   "cell_type": "code",
   "execution_count": 259,
   "metadata": {},
   "outputs": [
    {
     "name": "stdout",
     "output_type": "stream",
     "text": [
      "220\n",
      "220\n",
      "114\n",
      "114\n",
      "99\n",
      "99\n",
      "229\n",
      "229\n",
      "1\n",
      "1\n",
      "181\n",
      "181\n",
      "183\n",
      "183\n",
      "250\n",
      "250\n",
      "196\n",
      "196\n",
      "114\n",
      "114\n",
      "249\n",
      "249\n",
      "193\n",
      "193\n",
      "116\n",
      "116\n",
      "103\n",
      "103\n",
      "63\n",
      "63\n",
      "131\n",
      "131\n",
      "118\n",
      "118\n",
      "214\n",
      "214\n",
      "123\n",
      "123\n",
      "227\n",
      "227\n",
      "48\n",
      "48\n",
      "167\n",
      "167\n",
      "57\n",
      "57\n",
      "91\n",
      "91\n",
      "80\n",
      "80\n",
      "185\n",
      "185\n",
      "10\n",
      "10\n",
      "86\n",
      "86\n",
      "50\n",
      "50\n",
      "90\n",
      "90\n",
      "80\n",
      "80\n",
      "61\n",
      "61\n"
     ]
    }
   ],
   "source": [
    "ii = 0\n",
    "for i in ka:\n",
    "    print(i)\n",
    "    print(ka[ii])\n",
    "    ii += 1"
   ]
  },
  {
   "cell_type": "code",
   "execution_count": 251,
   "metadata": {},
   "outputs": [
    {
     "data": {
      "text/plain": [
       "b'e2ptX9zHdoAuSRKgfZyRLmJt6k8LSK9CG6Ojw2Zzpr3CPHHMG2S8G1yCqF49talexYdtQMbu4sE2VsBwh6kX8UmAZTaG+vTVbzTRDIBbpaQ='"
      ]
     },
     "execution_count": 251,
     "metadata": {},
     "output_type": "execute_result"
    }
   ],
   "source": [
    "edd = AES_cbcmode(bytes(ka)).encrypt(data)\n",
    "edd"
   ]
  },
  {
   "cell_type": "code",
   "execution_count": 254,
   "metadata": {},
   "outputs": [
    {
     "data": {
      "text/plain": [
       "'i have a butterfly in my stomache. 인생은 요지경'"
      ]
     },
     "execution_count": 254,
     "metadata": {},
     "output_type": "execute_result"
    }
   ],
   "source": [
    "str(AES_cbcmode(bytes(ka)).decrypt(edd), encoding = \"utf-8\")"
   ]
  },
  {
   "cell_type": "code",
   "execution_count": null,
   "metadata": {},
   "outputs": [],
   "source": [
    "edd = AES_cbcmode(bytes(ka)).encrypt(data)\n",
    "edd"
   ]
  },
  {
   "cell_type": "code",
   "execution_count": null,
   "metadata": {},
   "outputs": [],
   "source": []
  },
  {
   "cell_type": "code",
   "execution_count": 241,
   "metadata": {},
   "outputs": [],
   "source": [
    "k = [16, 1, 21, 27, 161, 255, 300]"
   ]
  },
  {
   "cell_type": "code",
   "execution_count": 226,
   "metadata": {},
   "outputs": [],
   "source": [
    "kk = [0x10, 0x01, 0x15, 0x1B, 0xA1, 0x11]"
   ]
  },
  {
   "cell_type": "code",
   "execution_count": 235,
   "metadata": {},
   "outputs": [],
   "source": [
    "kkd = [0x10, 0x1, 0x15, 0x1B, 0xA1, 0x11]"
   ]
  },
  {
   "cell_type": "code",
   "execution_count": 236,
   "metadata": {},
   "outputs": [
    {
     "data": {
      "text/plain": [
       "[16, 1, 21, 27, 161, 17]"
      ]
     },
     "execution_count": 236,
     "metadata": {},
     "output_type": "execute_result"
    }
   ],
   "source": [
    "kkd"
   ]
  },
  {
   "cell_type": "code",
   "execution_count": 240,
   "metadata": {},
   "outputs": [
    {
     "data": {
      "text/plain": [
       "'0x100'"
      ]
     },
     "execution_count": 240,
     "metadata": {},
     "output_type": "execute_result"
    }
   ],
   "source": [
    "hex(256)"
   ]
  },
  {
   "cell_type": "code",
   "execution_count": 227,
   "metadata": {},
   "outputs": [
    {
     "data": {
      "text/plain": [
       "b'\\x10\\x01\\x15\\x1b\\xa1\\x11'"
      ]
     },
     "execution_count": 227,
     "metadata": {},
     "output_type": "execute_result"
    }
   ],
   "source": [
    "bytes(kk)"
   ]
  },
  {
   "cell_type": "code",
   "execution_count": 242,
   "metadata": {},
   "outputs": [
    {
     "ename": "ValueError",
     "evalue": "bytes must be in range(0, 256)",
     "output_type": "error",
     "traceback": [
      "\u001b[1;31m--------------------------------------------------------------------\u001b[0m",
      "\u001b[1;31mValueError\u001b[0m                         Traceback (most recent call last)",
      "\u001b[1;32m<ipython-input-242-f768e0c8881b>\u001b[0m in \u001b[0;36m<module>\u001b[1;34m\u001b[0m\n\u001b[1;32m----> 1\u001b[1;33m \u001b[0mbytes\u001b[0m\u001b[1;33m(\u001b[0m\u001b[0mk\u001b[0m\u001b[1;33m)\u001b[0m\u001b[1;33m\u001b[0m\u001b[0m\n\u001b[0m",
      "\u001b[1;31mValueError\u001b[0m: bytes must be in range(0, 256)"
     ]
    }
   ],
   "source": [
    "bytes(k)"
   ]
  },
  {
   "cell_type": "code",
   "execution_count": 248,
   "metadata": {},
   "outputs": [
    {
     "data": {
      "text/plain": [
       "b'\\xff'"
      ]
     },
     "execution_count": 248,
     "metadata": {},
     "output_type": "execute_result"
    }
   ],
   "source": [
    "bytes([255])"
   ]
  },
  {
   "cell_type": "code",
   "execution_count": null,
   "metadata": {},
   "outputs": [],
   "source": [
    "bytes(k)"
   ]
  },
  {
   "cell_type": "code",
   "execution_count": 206,
   "metadata": {},
   "outputs": [
    {
     "name": "stdout",
     "output_type": "stream",
     "text": [
      "[16, 1, 21, 27, 161, 17, 87, 114, 108, 33, 86, 87, 98, 22, 5, 61, 255, 254, 17, 27, 33, 49, 87, 114, 107, 33, 166, 167, 110, 230, 229, 63]\n"
     ]
    }
   ],
   "source": [
    "print(key)"
   ]
  },
  {
   "cell_type": "code",
   "execution_count": 203,
   "metadata": {},
   "outputs": [],
   "source": [
    "key = [0x10, 0x01, 0x15, 0x1B, 0xA1, 0x11, 0x57, 0x72, 0x6C, 0x21, 0x56, 0x57, 0x62, 0x16, 0x05, 0x3D,\n",
    "        0xFF, 0xFE, 0x11, 0x1B, 0x21, 0x31, 0x57, 0x72, 0x6B, 0x21, 0xA6, 0xA7, 0x6E, 0xE6, 0xE5, 0x3F]"
   ]
  },
  {
   "cell_type": "code",
   "execution_count": 195,
   "metadata": {},
   "outputs": [],
   "source": [
    "data = \"i have a butterfly in my stomache. 인생은 요지경\""
   ]
  },
  {
   "cell_type": "code",
   "execution_count": 196,
   "metadata": {},
   "outputs": [
    {
     "data": {
      "text/plain": [
       "b'nHUPabAHkOfoJrPG8ZA55amRg7bS+1xH3br9OFc5JCrz5nJQIIOeCOt02hpqpoOlhLNd5myvZovnOC6YYJM4bkn0JuO9enynwvBh1vtqAj8='"
      ]
     },
     "execution_count": 196,
     "metadata": {},
     "output_type": "execute_result"
    }
   ],
   "source": [
    "encd = AES_cbcmode(bytes(key)).encrypt(data)\n",
    "encd"
   ]
  },
  {
   "cell_type": "code",
   "execution_count": 198,
   "metadata": {},
   "outputs": [],
   "source": [
    "ddd = AES_cbcmode(bytes(key)).decrypt(encd)"
   ]
  },
  {
   "cell_type": "code",
   "execution_count": 199,
   "metadata": {},
   "outputs": [
    {
     "data": {
      "text/plain": [
       "'i have a butterfly in my stomache. 인생은 요지경'"
      ]
     },
     "execution_count": 199,
     "metadata": {},
     "output_type": "execute_result"
    }
   ],
   "source": [
    "str(ddd, encoding = 'utf-8')"
   ]
  },
  {
   "cell_type": "code",
   "execution_count": null,
   "metadata": {},
   "outputs": [],
   "source": []
  },
  {
   "cell_type": "code",
   "execution_count": 170,
   "metadata": {},
   "outputs": [],
   "source": [
    "c = [1,2,3,4,5]"
   ]
  },
  {
   "cell_type": "code",
   "execution_count": 131,
   "metadata": {},
   "outputs": [],
   "source": [
    "iv = Random.new().read( AES.block_size )"
   ]
  },
  {
   "cell_type": "code",
   "execution_count": 132,
   "metadata": {},
   "outputs": [
    {
     "data": {
      "text/plain": [
       "bytes"
      ]
     },
     "execution_count": 132,
     "metadata": {},
     "output_type": "execute_result"
    }
   ],
   "source": [
    "type(iv)"
   ]
  },
  {
   "cell_type": "code",
   "execution_count": 134,
   "metadata": {},
   "outputs": [
    {
     "data": {
      "text/plain": [
       "b'ddd\\r\\r\\r\\r\\r\\r\\r\\r\\r\\r\\r\\r\\rN\\x0c \\xa0lLV\\n\\xe9\\xf5\\x80M\\x84\\xf0\\xdf\\xf0'"
      ]
     },
     "execution_count": 134,
     "metadata": {},
     "output_type": "execute_result"
    }
   ],
   "source": [
    "pad_data.encode('utf-8')+iv"
   ]
  },
  {
   "cell_type": "code",
   "execution_count": 148,
   "metadata": {},
   "outputs": [],
   "source": [
    "d = base64.b64encode(iv + pad_data.encode('utf-8'))"
   ]
  },
  {
   "cell_type": "code",
   "execution_count": 149,
   "metadata": {},
   "outputs": [
    {
     "data": {
      "text/plain": [
       "10"
      ]
     },
     "execution_count": 149,
     "metadata": {},
     "output_type": "execute_result"
    }
   ],
   "source": [
    "ord(chr(10))"
   ]
  },
  {
   "cell_type": "code",
   "execution_count": 150,
   "metadata": {},
   "outputs": [],
   "source": [
    "e = base64.b64decode(d)"
   ]
  },
  {
   "cell_type": "code",
   "execution_count": 151,
   "metadata": {},
   "outputs": [
    {
     "data": {
      "text/plain": [
       "b'ddd\\r\\r\\r\\r\\r\\r\\r\\r\\r\\r\\r\\r\\r'"
      ]
     },
     "execution_count": 151,
     "metadata": {},
     "output_type": "execute_result"
    }
   ],
   "source": [
    "e[16:]"
   ]
  },
  {
   "cell_type": "code",
   "execution_count": 157,
   "metadata": {},
   "outputs": [
    {
     "data": {
      "text/plain": [
       "b'ddd\\r\\r\\r\\r\\r\\r\\r\\r\\r\\r\\r\\r\\r'"
      ]
     },
     "execution_count": 157,
     "metadata": {},
     "output_type": "execute_result"
    }
   ],
   "source": [
    "ee = e[16:]\n",
    "ee"
   ]
  },
  {
   "cell_type": "code",
   "execution_count": 167,
   "metadata": {},
   "outputs": [
    {
     "data": {
      "text/plain": [
       "'ddd'"
      ]
     },
     "execution_count": 167,
     "metadata": {},
     "output_type": "execute_result"
    }
   ],
   "source": [
    "str(eee,encoding='utf-8')"
   ]
  },
  {
   "cell_type": "code",
   "execution_count": 169,
   "metadata": {},
   "outputs": [
    {
     "data": {
      "text/plain": [
       "b'ddd'"
      ]
     },
     "execution_count": 169,
     "metadata": {},
     "output_type": "execute_result"
    }
   ],
   "source": [
    "eee = ee[: -ee[-1]]\n",
    "eee"
   ]
  },
  {
   "cell_type": "code",
   "execution_count": 163,
   "metadata": {},
   "outputs": [
    {
     "data": {
      "text/plain": [
       "13"
      ]
     },
     "execution_count": 163,
     "metadata": {},
     "output_type": "execute_result"
    }
   ],
   "source": [
    "ord(ee[len(ee)-1:])"
   ]
  },
  {
   "cell_type": "code",
   "execution_count": null,
   "metadata": {},
   "outputs": [],
   "source": []
  },
  {
   "cell_type": "code",
   "execution_count": 4,
   "metadata": {},
   "outputs": [],
   "source": [
    "BS = 16\n",
    "pad = lambda s: s + (BS - len(s.encode('utf-8')) % BS) * chr(BS - len(s.encode('utf-8')) % BS)\n",
    "unpad = lambda s : s[:-ord(s[len(s)-1:])]"
   ]
  },
  {
   "cell_type": "code",
   "execution_count": 15,
   "metadata": {},
   "outputs": [
    {
     "data": {
      "text/plain": [
       "16"
      ]
     },
     "execution_count": 15,
     "metadata": {},
     "output_type": "execute_result"
    }
   ],
   "source": [
    "AES.block_size"
   ]
  },
  {
   "cell_type": "code",
   "execution_count": 32,
   "metadata": {},
   "outputs": [],
   "source": [
    "class AES:\n",
    "    def __init__( self, key ):\n",
    "        self.key = key\n",
    "\n",
    "    def encrypt( self, raw ):\n",
    "        raw = pad(raw)\n",
    "        \n",
    "        # iv: initial vector\n",
    "        # 두 번째 키와 같은 존재, \n",
    "        # 블록 단위로 암호/복호하면서 변경되고 그 값은 다음 블록 단위 암호/복호 시 사용\n",
    "        \n",
    "        iv = Random.new().read( AES.block_size )\n",
    "        \n",
    "        # CBC mode(Cipher Block Chaining)\n",
    "        cipher = AES.new( self.key, AES.MODE_CBC, iv )\n",
    "        return base64.b64encode( iv + cipher.encrypt( raw.encode('utf-8') ) )\n",
    "\n",
    "    def decrypt( self, enc ):\n",
    "        enc = base64.b64decode(enc)\n",
    "        iv = enc[:16]\n",
    "        cipher = AES.new(self.key, AES.MODE_CBC, iv )\n",
    "        return unpad(cipher.decrypt( enc[16:] ))"
   ]
  },
  {
   "cell_type": "code",
   "execution_count": 27,
   "metadata": {},
   "outputs": [],
   "source": [
    "key = [0x10, 0x01, 0x15, 0x1B, 0xA1, 0x11, 0x57, 0x72, 0x6C, 0x21, 0x56, 0x57, 0x62, 0x16, 0x05, 0x3D,\n",
    "        0xFF, 0xFE, 0x11, 0x1B, 0x21, 0x31, 0x57, 0x72, 0x6B, 0x21, 0xA6, 0xA7, 0x6E, 0xE6, 0xE5, 0x3F]"
   ]
  },
  {
   "cell_type": "code",
   "execution_count": 28,
   "metadata": {},
   "outputs": [],
   "source": [
    "key2 = [0x01, 0x01, 0x15, 0x1B, 0xA1, 0x11, 0x57, 0x72, 0x6C, 0x21, 0x56, 0x57, 0x62, 0x16, 0x05, 0x3D,\n",
    "        0xFF, 0xFE, 0x11, 0x1B, 0x21, 0x31, 0x57, 0x72, 0x6B, 0x21, 0xA6, 0xA7, 0x6E, 0xE6, 0xE5, 0x3F]"
   ]
  },
  {
   "cell_type": "code",
   "execution_count": 29,
   "metadata": {},
   "outputs": [],
   "source": [
    "data = \"dddddddddhhhhhhhhhhhhh\""
   ]
  },
  {
   "cell_type": "code",
   "execution_count": 33,
   "metadata": {},
   "outputs": [
    {
     "ename": "TypeError",
     "evalue": "bytes() argument 2 must be str, not list",
     "output_type": "error",
     "traceback": [
      "\u001b[1;31m--------------------------------------------------------------------\u001b[0m",
      "\u001b[1;31mTypeError\u001b[0m                          Traceback (most recent call last)",
      "\u001b[1;32m<ipython-input-33-b5d6a73a0467>\u001b[0m in \u001b[0;36m<module>\u001b[1;34m\u001b[0m\n\u001b[1;32m----> 1\u001b[1;33m \u001b[0mencrypted_data\u001b[0m \u001b[1;33m=\u001b[0m \u001b[0mAESCipher\u001b[0m\u001b[1;33m(\u001b[0m\u001b[0mbytes\u001b[0m\u001b[1;33m(\u001b[0m\u001b[0mkey\u001b[0m\u001b[1;33m,\u001b[0m\u001b[0mkey2\u001b[0m\u001b[1;33m)\u001b[0m\u001b[1;33m)\u001b[0m\u001b[1;33m.\u001b[0m\u001b[0mencrypt\u001b[0m\u001b[1;33m(\u001b[0m\u001b[0mdata\u001b[0m\u001b[1;33m)\u001b[0m\u001b[1;33m\u001b[0m\u001b[0m\n\u001b[0m\u001b[0;32m      2\u001b[0m \u001b[0mencrypted_data\u001b[0m\u001b[1;33m\u001b[0m\u001b[0m\n",
      "\u001b[1;31mTypeError\u001b[0m: bytes() argument 2 must be str, not list"
     ]
    }
   ],
   "source": [
    "encrypted_data = AESCipher(bytes(key)).encrypt(data)  \n",
    "encrypted_data"
   ]
  },
  {
   "cell_type": "code",
   "execution_count": 34,
   "metadata": {},
   "outputs": [
    {
     "ename": "TypeError",
     "evalue": "bytes() argument 2 must be str, not list",
     "output_type": "error",
     "traceback": [
      "\u001b[1;31m--------------------------------------------------------------------\u001b[0m",
      "\u001b[1;31mTypeError\u001b[0m                          Traceback (most recent call last)",
      "\u001b[1;32m<ipython-input-34-3f1a741bf617>\u001b[0m in \u001b[0;36m<module>\u001b[1;34m\u001b[0m\n\u001b[1;32m----> 1\u001b[1;33m \u001b[0mdecrypted_data\u001b[0m \u001b[1;33m=\u001b[0m \u001b[0mAESCipher\u001b[0m\u001b[1;33m(\u001b[0m\u001b[0mbytes\u001b[0m\u001b[1;33m(\u001b[0m\u001b[0mkey\u001b[0m\u001b[1;33m,\u001b[0m\u001b[0mkey2\u001b[0m\u001b[1;33m)\u001b[0m\u001b[1;33m)\u001b[0m\u001b[1;33m.\u001b[0m\u001b[0mdecrypt\u001b[0m\u001b[1;33m(\u001b[0m\u001b[0mencrypted_data\u001b[0m\u001b[1;33m)\u001b[0m\u001b[1;33m\u001b[0m\u001b[0m\n\u001b[0m\u001b[0;32m      2\u001b[0m \u001b[0mdecrypted_data\u001b[0m\u001b[1;33m.\u001b[0m\u001b[0mdecode\u001b[0m\u001b[1;33m(\u001b[0m\u001b[1;34m'utf-8'\u001b[0m\u001b[1;33m)\u001b[0m\u001b[1;33m\u001b[0m\u001b[0m\n",
      "\u001b[1;31mTypeError\u001b[0m: bytes() argument 2 must be str, not list"
     ]
    }
   ],
   "source": [
    "decrypted_data = AESCipher(bytes(key)).decrypt(encrypted_data)\n",
    "decrypted_data.decode('utf-8')"
   ]
  },
  {
   "cell_type": "markdown",
   "metadata": {},
   "source": [
    "# ==================================="
   ]
  },
  {
   "cell_type": "code",
   "execution_count": null,
   "metadata": {},
   "outputs": [],
   "source": [
    "import base64\n",
    "from Crypto.Cipher import AES\n",
    "from Crypto import Random\n",
    "\n",
    "class AESCipher:\n",
    "    def __init__( self, key ):\n",
    "        self.key = key\n",
    "\n",
    "    def encrypt( self, raw ):\n",
    "        raw = pad(raw)\n",
    "        iv = Random.new().read( AES.block_size )\n",
    "        cipher = AES.new( self.key, AES.MODE_CBC, iv )\n",
    "        return base64.b64encode( iv + cipher.encrypt( raw ) ) \n",
    "\n",
    "    def decrypt( self, enc ):\n",
    "        enc = base64.b64decode(enc)\n",
    "        iv = enc[:16]\n",
    "        cipher = AES.new(self.key, AES.MODE_CBC, iv )\n",
    "        return unpad(cipher.decrypt( enc[16:] ))"
   ]
  },
  {
   "cell_type": "code",
   "execution_count": null,
   "metadata": {},
   "outputs": [],
   "source": []
  },
  {
   "cell_type": "code",
   "execution_count": null,
   "metadata": {},
   "outputs": [],
   "source": []
  },
  {
   "cell_type": "code",
   "execution_count": 59,
   "metadata": {},
   "outputs": [
    {
     "ename": "SyntaxError",
     "evalue": "invalid syntax (<ipython-input-59-98cc88445a4f>, line 47)",
     "output_type": "error",
     "traceback": [
      "\u001b[1;36m  File \u001b[1;32m\"<ipython-input-59-98cc88445a4f>\"\u001b[1;36m, line \u001b[1;32m47\u001b[0m\n\u001b[1;33m    print decrypt(key, iv, ciphertext)\u001b[0m\n\u001b[1;37m                ^\u001b[0m\n\u001b[1;31mSyntaxError\u001b[0m\u001b[1;31m:\u001b[0m invalid syntax\n"
     ]
    }
   ],
   "source": [
    "from Crypto.Cipher import AES\n",
    "from Crypto.Util import Counter\n",
    "from Crypto import Random\n",
    "\n",
    "# AES supports multiple key sizes: 16 (AES128), 24 (AES192), or 32 (AES256).\n",
    "key_bytes = 32\n",
    "\n",
    "# Takes as input a 32-byte key and an arbitrary-length plaintext and returns a\n",
    "# pair (iv, ciphtertext). \"iv\" stands for initialization vector.\n",
    "def encrypt(key, plaintext):\n",
    "    assert len(key) == key_bytes\n",
    "\n",
    "    # Choose a random, 16-byte IV.\n",
    "    iv = Random.new().read(AES.block_size)\n",
    "\n",
    "    # Convert the IV to a Python integer.\n",
    "    iv_int = int(binascii.hexlify(iv), 16) \n",
    "\n",
    "    # Create a new Counter object with IV = iv_int.\n",
    "    ctr = Counter.new(AES.block_size * 8, initial_value=iv_int)\n",
    "\n",
    "    # Create AES-CTR cipher.\n",
    "    aes = AES.new(key, AES.MODE_CTR, counter=ctr)\n",
    "\n",
    "    # Encrypt and return IV and ciphertext.\n",
    "    ciphertext = aes.encrypt(plaintext)\n",
    "    return (iv, ciphertext)\n",
    "\n",
    "# Takes as input a 32-byte key, a 16-byte IV, and a ciphertext, and outputs the\n",
    "# corresponding plaintext.\n",
    "def decrypt(key, iv, ciphertext):\n",
    "    assert len(key) == key_bytes\n",
    "\n",
    "    # Initialize counter for decryption. iv should be the same as the output of\n",
    "    # encrypt().\n",
    "    iv_int = int(iv.encode('hex'), 16) \n",
    "    ctr = Counter.new(AES.block_size * 8, initial_value=iv_int)\n",
    "\n",
    "    # Create AES-CTR cipher.\n",
    "    aes = AES.new(key, AES.MODE_CTR, counter=ctr)\n",
    "\n",
    "    # Decrypt and return the plaintext.\n",
    "    plaintext = aes.decrypt(ciphertext)\n",
    "    return plaintext\n",
    "\n",
    "(iv, ciphertext) = encrypt(key, 'hella')\n",
    "print decrypt(key, iv, ciphertext)"
   ]
  },
  {
   "cell_type": "code",
   "execution_count": null,
   "metadata": {},
   "outputs": [],
   "source": []
  },
  {
   "cell_type": "code",
   "execution_count": null,
   "metadata": {},
   "outputs": [],
   "source": []
  },
  {
   "cell_type": "code",
   "execution_count": null,
   "metadata": {},
   "outputs": [],
   "source": []
  },
  {
   "cell_type": "code",
   "execution_count": null,
   "metadata": {},
   "outputs": [],
   "source": []
  },
  {
   "cell_type": "markdown",
   "metadata": {},
   "source": [
    "# 예시 연습"
   ]
  },
  {
   "cell_type": "code",
   "execution_count": 11,
   "metadata": {},
   "outputs": [
    {
     "name": "stdout",
     "output_type": "stream",
     "text": [
      "1586539553\n",
      "b'1586539553'\n"
     ]
    }
   ],
   "source": [
    "import base64\n",
    "import time\n",
    "import hashlib\n",
    "\n",
    "def make_pass():\n",
    "    timekey = int(time.time())\n",
    "    print(timekey)\n",
    "    return str(timekey)\n",
    "\n",
    "password = make_pass().encode('utf-8')\n",
    "print(password)"
   ]
  },
  {
   "cell_type": "code",
   "execution_count": 3,
   "metadata": {},
   "outputs": [
    {
     "data": {
      "text/plain": [
       "b'1586539411'"
      ]
     },
     "execution_count": 3,
     "metadata": {},
     "output_type": "execute_result"
    }
   ],
   "source": [
    "password"
   ]
  },
  {
   "cell_type": "code",
   "execution_count": 4,
   "metadata": {},
   "outputs": [
    {
     "data": {
      "text/plain": [
       "'1586539421'"
      ]
     },
     "execution_count": 4,
     "metadata": {},
     "output_type": "execute_result"
    }
   ],
   "source": [
    "make_pass()"
   ]
  },
  {
   "cell_type": "code",
   "execution_count": 5,
   "metadata": {},
   "outputs": [
    {
     "data": {
      "text/plain": [
       "31104000"
      ]
     },
     "execution_count": 5,
     "metadata": {},
     "output_type": "execute_result"
    }
   ],
   "source": [
    "60*60*24*30*12"
   ]
  },
  {
   "cell_type": "code",
   "execution_count": 7,
   "metadata": {},
   "outputs": [
    {
     "data": {
      "text/plain": [
       "3110400000"
      ]
     },
     "execution_count": 7,
     "metadata": {},
     "output_type": "execute_result"
    }
   ],
   "source": [
    "60*60*24*30*12*100"
   ]
  },
  {
   "cell_type": "code",
   "execution_count": 8,
   "metadata": {},
   "outputs": [],
   "source": [
    "key = [0x10, 0x01, 0x15, 0x1B, 0xA1, 0x11, 0x57, 0x72, 0x6C, 0x21, 0x56, 0x57, 0x62, 0x16, 0x05, 0x3D,\n",
    "        0xFF, 0xFE, 0x11, 0x1B, 0x21, 0x31, 0x57, 0x72, 0x6B, 0x21, 0xA6, 0xA7, 0x6E, 0xE6, 0xE5, 0x3F]"
   ]
  },
  {
   "cell_type": "code",
   "execution_count": 9,
   "metadata": {},
   "outputs": [
    {
     "data": {
      "text/plain": [
       "[16,\n",
       " 1,\n",
       " 21,\n",
       " 27,\n",
       " 161,\n",
       " 17,\n",
       " 87,\n",
       " 114,\n",
       " 108,\n",
       " 33,\n",
       " 86,\n",
       " 87,\n",
       " 98,\n",
       " 22,\n",
       " 5,\n",
       " 61,\n",
       " 255,\n",
       " 254,\n",
       " 17,\n",
       " 27,\n",
       " 33,\n",
       " 49,\n",
       " 87,\n",
       " 114,\n",
       " 107,\n",
       " 33,\n",
       " 166,\n",
       " 167,\n",
       " 110,\n",
       " 230,\n",
       " 229,\n",
       " 63]"
      ]
     },
     "execution_count": 9,
     "metadata": {},
     "output_type": "execute_result"
    }
   ],
   "source": [
    "key"
   ]
  },
  {
   "cell_type": "code",
   "execution_count": null,
   "metadata": {},
   "outputs": [],
   "source": []
  }
 ],
 "metadata": {
  "kernelspec": {
   "display_name": "Python 3",
   "language": "python",
   "name": "python3"
  },
  "language_info": {
   "codemirror_mode": {
    "name": "ipython",
    "version": 3
   },
   "file_extension": ".py",
   "mimetype": "text/x-python",
   "name": "python",
   "nbconvert_exporter": "python",
   "pygments_lexer": "ipython3",
   "version": "3.6.4"
  }
 },
 "nbformat": 4,
 "nbformat_minor": 2
}
